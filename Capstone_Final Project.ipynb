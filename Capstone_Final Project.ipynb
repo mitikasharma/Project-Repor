{
 "cells": [
  {
   "cell_type": "markdown",
   "metadata": {},
   "source": [
    "A recommendation system for food stalls aimed at students (based on location of schools/ colleges and eateries in Mumbai, India)\n",
    "\n",
    "**Brief Introduction**\n",
    "\n",
    "*_Part 1: Description of problem_*\n",
    "\n",
    "Mumbai, India is an extremely densely populated city (one of the most dense), with more than 18 million residents.\n",
    "Obviously it is tough to start a business here due to high real estate costs. So, an entrepreneur aiming at a student centric market (13 - 20 year old demographic) should know the best places to set up shop.\n",
    "A large population of Mumbai lies in this student demographic (more than 50 schools), and eating snack foods out is more popular and convenient than ever, hence we will find the best places in Mumbai to set up a food shop/ restaurant\n",
    "Target audience:\n",
    "Entrepreneurs and small-scale businessmen/women interested in the food/ snacks industry, aiming at the student demographic"
   ]
  },
  {
   "cell_type": "markdown",
   "metadata": {},
   "source": [
    "*_Part 2: Analyzing Data Required_*"
   ]
  },
  {
   "cell_type": "code",
   "execution_count": 1,
   "metadata": {},
   "outputs": [
    {
     "name": "stdout",
     "output_type": "stream",
     "text": [
      "Collecting package metadata (current_repodata.json): done\n",
      "Solving environment: done\n",
      "\n",
      "\n",
      "==> WARNING: A newer version of conda exists. <==\n",
      "  current version: 4.7.12\n",
      "  latest version: 4.8.2\n",
      "\n",
      "Please update conda by running\n",
      "\n",
      "    $ conda update -n base conda\n",
      "\n",
      "\n",
      "\n",
      "## Package Plan ##\n",
      "\n",
      "  environment location: /srv/conda/envs/notebook\n",
      "\n",
      "  added / updated specs:\n",
      "    - ipython\n",
      "    - jupyter\n",
      "\n",
      "\n",
      "The following packages will be downloaded:\n",
      "\n",
      "    package                    |            build\n",
      "    ---------------------------|-----------------\n",
      "    certifi-2019.11.28         |           py37_0         148 KB  conda-forge\n",
      "    ------------------------------------------------------------\n",
      "                                           Total:         148 KB\n",
      "\n",
      "The following packages will be SUPERSEDED by a higher-priority channel:\n",
      "\n",
      "  ca-certificates      anaconda::ca-certificates-2020.1.1-0 --> conda-forge::ca-certificates-2019.11.28-hecc5488_0\n",
      "  certifi                                          anaconda --> conda-forge\n",
      "  openssl                anaconda::openssl-1.1.1-h7b6447c_0 --> conda-forge::openssl-1.1.1d-h516909a_0\n",
      "\n",
      "\n",
      "\n",
      "Downloading and Extracting Packages\n",
      "certifi-2019.11.28   | 148 KB    | ##################################### | 100% \n",
      "Preparing transaction: done\n",
      "Verifying transaction: done\n",
      "Executing transaction: done\n",
      "\n",
      "Note: you may need to restart the kernel to use updated packages.\n"
     ]
    }
   ],
   "source": [
    "conda install ipython jupyter"
   ]
  },
  {
   "cell_type": "code",
   "execution_count": 2,
   "metadata": {},
   "outputs": [
    {
     "name": "stdout",
     "output_type": "stream",
     "text": [
      "Libraries imported.\n"
     ]
    }
   ],
   "source": [
    "import requests\n",
    "import pandas as pd  # library for data analsysis\n",
    "import numpy as np  # library to handle data in a vectorized manner\n",
    "import random  # library for random number generation\n",
    "import string # Manipulation of name for Folium Map\n",
    "# module to convert an address into latitude and longitude values\n",
    "from geopy.geocoders import Nominatim\n",
    "\n",
    "# libraries for displaying images\n",
    "from IPython.display import Image\n",
    "from IPython.core.display import HTML\n",
    "\n",
    "# tranforming json file into a pandas dataframe library\n",
    "from pandas.io.json import json_normalize\n",
    "import folium  # plotting library\n",
    "\n",
    "from sklearn.cluster import KMeans # for clustering\n",
    "\n",
    "print('Libraries imported.')"
   ]
  },
  {
   "cell_type": "code",
   "execution_count": 3,
   "metadata": {},
   "outputs": [
    {
     "name": "stdout",
     "output_type": "stream",
     "text": [
      "Your credentails:\n",
      "CLIENT_ID: WEMY4AM5NRBMPJ55IDUZ1XRYOHE52FANWWSHMCT2S0I1JUG3\n",
      "CLIENT_SECRET:GAGO1KZFQ1DI3IKT1DG42DNQLGHPEBSJIE0QMDRXBJIHGJB1\n"
     ]
    }
   ],
   "source": [
    "#Declaring API keys\n",
    "CLIENT_ID = 'WEMY4AM5NRBMPJ55IDUZ1XRYOHE52FANWWSHMCT2S0I1JUG3'  # your Foursquare ID\n",
    "# your Foursquare Secret\n",
    "CLIENT_SECRET = 'GAGO1KZFQ1DI3IKT1DG42DNQLGHPEBSJIE0QMDRXBJIHGJB1'\n",
    "VERSION = '20180604'\n",
    "LIMIT = 40\n",
    "print('Your credentails:')\n",
    "print('CLIENT_ID: ' + CLIENT_ID)\n",
    "print('CLIENT_SECRET:' + CLIENT_SECRET)"
   ]
  },
  {
   "cell_type": "code",
   "execution_count": 4,
   "metadata": {},
   "outputs": [
    {
     "name": "stdout",
     "output_type": "stream",
     "text": [
      "34\n"
     ]
    }
   ],
   "source": [
    "insts = ['Lilavatibai podar santacruz', 'Narsee Monjee College', 'University of Mumbai', 'Jai Hind College',\n",
    "         'Mithibai College', 'Ramnarain Ruia College', 'Sophia College', \"St. Andrew's College\",\n",
    "         'St. Xaviers College', 'Wilson College', 'IIT Bombay', 'Arya Vidya Mandir', 'BD Somani', 'Cambridge School',\n",
    "         'Don Bosco High School', 'Hiranandani Foundation School Powai', 'Oberoi International', 'Vibgyor High School',\n",
    "        'Tolani College of Commerce', 'Elphinstone College', 'HR College of Commerce', \n",
    "         'Ramniranjan Anandilal Podar College of Commerce and Economics', 'Sathaye College',\n",
    "         'Swami Vivekanand College', 'Thakur College', 'Veermata Jijabai', 'Institute of Chemical Technology',\n",
    "         'Dhirubhai Ambani International School', 'Ecole Mondiale World School', 'Gokuldham High School', \n",
    "         'Hansraj Morarji Public School', 'Jamnabai Narsee School', 'JB Petit High School', 'Rajhans Vidyalaya'\n",
    "        ]\n",
    "print(len(insts))"
   ]
  },
  {
   "cell_type": "code",
   "execution_count": 5,
   "metadata": {},
   "outputs": [
    {
     "name": "stdout",
     "output_type": "stream",
     "text": [
      "Lilavatibai podar santacruz\n",
      "Narsee Monjee College\n",
      "University of Mumbai\n",
      "Jai Hind College\n",
      "Mithibai College\n",
      "Ramnarain Ruia College\n",
      "Sophia College\n",
      "St. Andrew's College\n",
      "St. Xaviers College\n",
      "Wilson College\n",
      "IIT Bombay\n",
      "Arya Vidya Mandir\n",
      "BD Somani\n",
      "Cambridge School\n",
      "Don Bosco High School\n",
      "Hiranandani Foundation School Powai\n",
      "Oberoi International\n",
      "Vibgyor High School\n",
      "Tolani College of Commerce\n",
      "Elphinstone College\n",
      "HR College of Commerce\n",
      "Ramniranjan Anandilal Podar College of Commerce and Economics\n",
      "Sathaye College\n",
      "Swami Vivekanand College\n",
      "Thakur College\n",
      "Veermata Jijabai\n",
      "Institute of Chemical Technology\n",
      "Dhirubhai Ambani International School\n",
      "Ecole Mondiale World School\n",
      "Gokuldham High School\n",
      "Hansraj Morarji Public School\n",
      "Jamnabai Narsee School\n",
      "JB Petit High School\n",
      "Rajhans Vidyalaya\n"
     ]
    }
   ],
   "source": [
    "for i in insts:\n",
    "    print(i)"
   ]
  },
  {
   "cell_type": "code",
   "execution_count": 7,
   "metadata": {},
   "outputs": [
    {
     "name": "stdout",
     "output_type": "stream",
     "text": [
      "['Lilavatibai podar santacruz Mumbai', 'Narsee Monjee College Mumbai', 'University of Mumbai Mumbai', 'Jai Hind College Mumbai', 'Mithibai College Mumbai']\n"
     ]
    }
   ],
   "source": [
    "insts = [x+\" Mumbai\" for x in insts]\n",
    "print(insts[:5])"
   ]
  },
  {
   "cell_type": "code",
   "execution_count": 31,
   "metadata": {},
   "outputs": [],
   "source": [
    "def coords(institute):\n",
    "    d = {}\n",
    "    d['institute'] = institutes\n",
    "    geolocator = Nominatim(user_agent='myapplication')\n",
    "    try:\n",
    "        location = geolocator.geocode(institute).raw\n",
    "        d['latitude'] = location['lat']\n",
    "        d['longitude'] = location['lon']\n",
    "        return d\n",
    "    except Exception as e:\n",
    "        print(\"Institute %s not found\"%institute)\n",
    "        return -1"
   ]
  },
  {
   "cell_type": "code",
   "execution_count": 12,
   "metadata": {},
   "outputs": [
    {
     "name": "stdout",
     "output_type": "stream",
     "text": [
      "Institute University of Mumbai Mumbai not found\n",
      "Institute St. Xaviers College Mumbai not found\n",
      "Institute IIT Bombay Mumbai not found\n",
      "Institute BD Somani Mumbai not found\n",
      "Institute Don Bosco High School Mumbai not found\n",
      "Institute Oberoi International Mumbai not found\n",
      "Institute Tolani College of Commerce Mumbai not found\n",
      "Institute Elphinstone College Mumbai not found\n",
      "Institute HR College of Commerce Mumbai not found\n",
      "Institute Sathaye College Mumbai not found\n",
      "Institute Swami Vivekanand College Mumbai not found\n",
      "Institute Veermata Jijabai Mumbai not found\n",
      "Institute Dhirubhai Ambani International School Mumbai not found\n",
      "Institute Ecole Mondiale World School Mumbai not found\n",
      "Institute Gokuldham High School Mumbai not found\n",
      "Institute Hansraj Morarji Public School Mumbai not found\n",
      "Institute JB Petit High School Mumbai not found\n",
      "Institute Rajhans Vidyalaya Mumbai not found\n",
      "[{'institute': 'Lilavatibai podar santacruz Mumbai', 'latitude': '19.0810735', 'longitude': '72.8371727'}, {'institute': 'Narsee Monjee College Mumbai', 'latitude': '19.1037065', 'longitude': '72.83734768853805'}, {'institute': 'Jai Hind College Mumbai', 'latitude': '18.93455995', 'longitude': '72.82515318623715'}, {'institute': 'Mithibai College Mumbai', 'latitude': '19.1028853', 'longitude': '72.83749367813928'}, {'institute': 'Ramnarain Ruia College Mumbai', 'latitude': '19.02381515', 'longitude': '72.85009894946948'}, {'institute': 'Sophia College Mumbai', 'latitude': '18.96975705', 'longitude': '72.80662218998262'}, {'institute': \"St. Andrew's College Mumbai\", 'latitude': '19.0566226', 'longitude': '72.8287305'}, -1, {'institute': 'Wilson College Mumbai', 'latitude': '18.9567432', 'longitude': '72.81062856173295'}, {'institute': 'Arya Vidya Mandir Mumbai', 'latitude': '19.065316', 'longitude': '72.8589753'}, {'institute': 'Cambridge School Mumbai', 'latitude': '19.2092497', 'longitude': '72.86206440622388'}, -1, {'institute': 'Hiranandani Foundation School Powai Mumbai', 'latitude': '19.11751445', 'longitude': '72.90788109086176'}, {'institute': 'Vibgyor High School Mumbai', 'latitude': '19.1594826', 'longitude': '72.83603777482958'}, -1, {'institute': 'Ramniranjan Anandilal Podar College of Commerce and Economics Mumbai', 'latitude': '19.024636700000002', 'longitude': '72.85030182018514'}, {'institute': 'Thakur College Mumbai', 'latitude': '19.2097189', 'longitude': '72.8759248'}, {'institute': 'Institute of Chemical Technology Mumbai', 'latitude': '19.023912850000002', 'longitude': '72.85876654843221'}, {'institute': 'Jamnabai Narsee School Mumbai', 'latitude': '19.1050232', 'longitude': '72.8321862'}]\n",
      "19\n"
     ]
    }
   ],
   "source": [
    "institutes = []\n",
    "for i in insts:\n",
    "    details = coords(i)\n",
    "    if(details!=-1):\n",
    "        institutes.append(coords(i))\n",
    "print(institutes)\n",
    "print(len(institutes))"
   ]
  },
  {
   "cell_type": "code",
   "execution_count": 13,
   "metadata": {},
   "outputs": [],
   "source": [
    "mum_lat = 19.0760\n",
    "mum_lon = 72.8777"
   ]
  },
  {
   "cell_type": "code",
   "execution_count": 30,
   "metadata": {},
   "outputs": [
    {
     "ename": "NameError",
     "evalue": "name 'latitude' is not defined",
     "output_type": "error",
     "traceback": [
      "\u001b[0;31m---------------------------------------------------------------------------\u001b[0m",
      "\u001b[0;31mNameError\u001b[0m                                 Traceback (most recent call last)",
      "\u001b[0;32m<ipython-input-30-77aa3b1c83db>\u001b[0m in \u001b[0;36m<module>\u001b[0;34m\u001b[0m\n\u001b[1;32m      5\u001b[0m \u001b[0;34m\u001b[0m\u001b[0m\n\u001b[1;32m      6\u001b[0m     folium.CircleMarker(\n\u001b[0;32m----> 7\u001b[0;31m         [float(d[latitude]), \n\u001b[0m\u001b[1;32m      8\u001b[0m          float(d[longitude])],\n\u001b[1;32m      9\u001b[0m         \u001b[0mradius\u001b[0m\u001b[0;34m=\u001b[0m\u001b[0;36m5\u001b[0m\u001b[0;34m,\u001b[0m\u001b[0;34m\u001b[0m\u001b[0;34m\u001b[0m\u001b[0m\n",
      "\u001b[0;31mNameError\u001b[0m: name 'latitude' is not defined"
     ]
    }
   ],
   "source": [
    "inst_map = folium.Map(location=[mum_lat, mum_lon], zoom_start=11,\n",
    "                      tiles='Stamen Terrain')\n",
    "\n",
    "for d in institutes:\n",
    "\n",
    "    folium.CircleMarker(\n",
    "        [float(d[latitude]), \n",
    "         float(d[longitude])],\n",
    "        radius=5,\n",
    "        popup=d[institute].translate(str.maketrans('', '',\n",
    "                string.punctuation)),\n",
    "        fill=True,\n",
    "        color='#0012EE',\n",
    "        fill_color='red',\n",
    "        fill_opacity=0.5,\n",
    "        ).add_to(inst_map)\n",
    "\n",
    "inst_map"
   ]
  },
  {
   "cell_type": "code",
   "execution_count": 18,
   "metadata": {},
   "outputs": [
    {
     "name": "stdout",
     "output_type": "stream",
     "text": [
      "92\n"
     ]
    }
   ],
   "source": [
    "url = 'https://api.foursquare.com/v2/venues/categories?&client_id={}&client_secret={}&v={}'.format(\n",
    "    CLIENT_ID,\n",
    "    CLIENT_SECRET,\n",
    "    VERSION,)\n",
    "\n",
    "results = requests.get(url).json()\n",
    "\n",
    "food_categs = []\n",
    "for i in results['response']['categories'][3]['categories']:\n",
    "    food_categs.append(i['name'])\n",
    "print(len(food_categs))"
   ]
  },
  {
   "cell_type": "code",
   "execution_count": 19,
   "metadata": {},
   "outputs": [
    {
     "data": {
      "text/plain": [
       "['Afghan Restaurant',\n",
       " 'African Restaurant',\n",
       " 'American Restaurant',\n",
       " 'Asian Restaurant',\n",
       " 'Australian Restaurant']"
      ]
     },
     "execution_count": 19,
     "metadata": {},
     "output_type": "execute_result"
    }
   ],
   "source": [
    "food_categs[:5]"
   ]
  },
  {
   "cell_type": "code",
   "execution_count": 20,
   "metadata": {},
   "outputs": [],
   "source": [
    "import random\n",
    "def randomcol():\n",
    "    r = lambda: random.randint(0,255)\n",
    "    return('#%02X%02X%02X' % (r(),r(),r()))"
   ]
  },
  {
   "cell_type": "code",
   "execution_count": 21,
   "metadata": {},
   "outputs": [],
   "source": [
    "def get_category_type(row):\n",
    "    try:\n",
    "        categories_list = row['categories']\n",
    "    except:\n",
    "        categories_list = row['venue.categories']\n",
    "\n",
    "    if len(categories_list) == 0:\n",
    "        return None\n",
    "    else:\n",
    "        return categories_list[0]['name']"
   ]
  },
  {
   "cell_type": "code",
   "execution_count": 32,
   "metadata": {},
   "outputs": [
    {
     "ename": "NameError",
     "evalue": "name 'institute' is not defined",
     "output_type": "error",
     "traceback": [
      "\u001b[0;31m---------------------------------------------------------------------------\u001b[0m",
      "\u001b[0;31mNameError\u001b[0m                                 Traceback (most recent call last)",
      "\u001b[0;32m<ipython-input-32-72807e3b0dff>\u001b[0m in \u001b[0;36m<module>\u001b[0;34m\u001b[0m\n\u001b[1;32m     77\u001b[0m \u001b[0;34m\u001b[0m\u001b[0m\n\u001b[1;32m     78\u001b[0m \u001b[0;31m# Calling the function that adds markers to the map\u001b[0m\u001b[0;34m\u001b[0m\u001b[0;34m\u001b[0m\u001b[0;34m\u001b[0m\u001b[0m\n\u001b[0;32m---> 79\u001b[0;31m \u001b[0mfullplot\u001b[0m\u001b[0;34m(\u001b[0m\u001b[0;34m)\u001b[0m\u001b[0;34m\u001b[0m\u001b[0;34m\u001b[0m\u001b[0m\n\u001b[0m\u001b[1;32m     80\u001b[0m \u001b[0;34m\u001b[0m\u001b[0m\n\u001b[1;32m     81\u001b[0m \u001b[0;31m# Printing our map\u001b[0m\u001b[0;34m\u001b[0m\u001b[0;34m\u001b[0m\u001b[0;34m\u001b[0m\u001b[0m\n",
      "\u001b[0;32m<ipython-input-32-72807e3b0dff>\u001b[0m in \u001b[0;36mfullplot\u001b[0;34m()\u001b[0m\n\u001b[1;32m      4\u001b[0m \u001b[0meatery_data\u001b[0m \u001b[0;34m=\u001b[0m \u001b[0;34m[\u001b[0m\u001b[0;34m]\u001b[0m\u001b[0;34m\u001b[0m\u001b[0;34m\u001b[0m\u001b[0m\n\u001b[1;32m      5\u001b[0m \u001b[0;32mdef\u001b[0m \u001b[0mfullplot\u001b[0m\u001b[0;34m(\u001b[0m\u001b[0;34m)\u001b[0m\u001b[0;34m:\u001b[0m\u001b[0;34m\u001b[0m\u001b[0;34m\u001b[0m\u001b[0m\n\u001b[0;32m----> 6\u001b[0;31m     \u001b[0;32mfor\u001b[0m \u001b[0mi\u001b[0m \u001b[0;32min\u001b[0m \u001b[0minstitute\u001b[0m\u001b[0;34m:\u001b[0m\u001b[0;34m\u001b[0m\u001b[0;34m\u001b[0m\u001b[0m\n\u001b[0m\u001b[1;32m      7\u001b[0m         \u001b[0mname\u001b[0m \u001b[0;34m=\u001b[0m \u001b[0mi\u001b[0m\u001b[0;34m[\u001b[0m\u001b[0;34m'institute'\u001b[0m\u001b[0;34m]\u001b[0m\u001b[0;34m\u001b[0m\u001b[0;34m\u001b[0m\u001b[0m\n\u001b[1;32m      8\u001b[0m         \u001b[0mprint\u001b[0m\u001b[0;34m(\u001b[0m\u001b[0mname\u001b[0m\u001b[0;34m,\u001b[0m \u001b[0mend\u001b[0m\u001b[0;34m=\u001b[0m\u001b[0;34m' '\u001b[0m\u001b[0;34m)\u001b[0m\u001b[0;34m\u001b[0m\u001b[0;34m\u001b[0m\u001b[0m\n",
      "\u001b[0;31mNameError\u001b[0m: name 'institute' is not defined"
     ]
    }
   ],
   "source": [
    "main_map = folium.Map(location=[mum_lat, mum_lon], zoom_start=11, tiles = \"Stamen Terrain\")\n",
    "radius = 1500\n",
    "\n",
    "eatery_data = []\n",
    "def fullplot():\n",
    "    for i in institute:\n",
    "        name = i['institute']\n",
    "        print(name, end=' ')\n",
    "        lat = i['latitude']\n",
    "        lon = i['longitude']\n",
    "        \n",
    "        # Using the foursquare venues API to find nearby venues for an institute\n",
    "        url = 'https://api.foursquare.com/v2/venues/explore?&client_id={}&client_secret={}&v={}&ll={},{}&radius={}&limit={}'.format(\n",
    "            CLIENT_ID,\n",
    "            CLIENT_SECRET,\n",
    "            VERSION,\n",
    "            lat,\n",
    "            lon,\n",
    "            radius,\n",
    "            100)\n",
    "        results = requests.get(url).json()\n",
    "        \n",
    "        venues = results['response']['groups'][0]['items']\n",
    "\n",
    "        nearby_venues = json_normalize(venues)  # flatten JSON\n",
    "\n",
    "        # filter columns\n",
    "        filtered_columns = ['venue.name', 'venue.categories',\n",
    "                            'venue.location.lat', 'venue.location.lng']\n",
    "        nearby_venues = nearby_venues.loc[:, filtered_columns]\n",
    "\n",
    "        # filter the category for each row\n",
    "        nearby_venues['venue.categories'] = nearby_venues.apply(\n",
    "            get_category_type, axis=1)\n",
    "\n",
    "        # clean columns\n",
    "        nearby_venues.columns = [col.split(\".\")[-1]\n",
    "                                 for col in nearby_venues.columns]\n",
    "        nearby_venues = nearby_venues[nearby_venues['categories'].isin(\n",
    "            food_categs)]\n",
    "        \n",
    "        print(\", Venues: \",nearby_venues.shape[0])\n",
    "\n",
    "        venues_i = []\n",
    "        for index, row in nearby_venues.iterrows():\n",
    "            d = {}\n",
    "            d['name'] = row['name'].translate(str.maketrans('', '', string.punctuation))\n",
    "            d['lat'] = row['lat']\n",
    "            d['lng'] = row['lng']\n",
    "            venues_i.append(d)\n",
    "        \n",
    "        # Generating a random color\n",
    "        color = randomcol()\n",
    "        \n",
    "        # Plotting venues\n",
    "        for d in venues_i:\n",
    "            folium.CircleMarker(\n",
    "                [float(d['lat']), float(d['lng'])],\n",
    "                radius=1.5,\n",
    "                popup=d['name'].translate(str.maketrans('', '', string.punctuation)),\n",
    "                fill=True,\n",
    "                color=color,\n",
    "                fill_color='blue',\n",
    "                fill_opacity=0.5\n",
    "            ).add_to(main_map)\n",
    "            eatery_data.append(d)\n",
    "        \n",
    "        # Plotting institute\n",
    "        folium.CircleMarker(\n",
    "            [float(lat), float(lon)],\n",
    "            radius=5,\n",
    "            popup=name.translate(str.maketrans('', '', string.punctuation)),\n",
    "            fill=True,\n",
    "            color=color,\n",
    "            fill_color='red'\n",
    "        ).add_to(main_map)\n",
    "        \n",
    "# Calling the function that adds markers to the map\n",
    "fullplot()\n",
    "\n",
    "# Printing our map\n",
    "main_map"
   ]
  },
  {
   "cell_type": "code",
   "execution_count": 35,
   "metadata": {},
   "outputs": [
    {
     "ename": "NameError",
     "evalue": "name 'institute' is not defined",
     "output_type": "error",
     "traceback": [
      "\u001b[0;31m---------------------------------------------------------------------------\u001b[0m",
      "\u001b[0;31mNameError\u001b[0m                                 Traceback (most recent call last)",
      "\u001b[0;32m<ipython-input-35-3680d6c1ed3f>\u001b[0m in \u001b[0;36m<module>\u001b[0;34m\u001b[0m\n\u001b[0;32m----> 1\u001b[0;31m \u001b[0minstdf\u001b[0m \u001b[0;34m=\u001b[0m \u001b[0mpd\u001b[0m\u001b[0;34m.\u001b[0m\u001b[0mDataFrame\u001b[0m\u001b[0;34m(\u001b[0m\u001b[0minstitute\u001b[0m\u001b[0;34m)\u001b[0m\u001b[0;34m\u001b[0m\u001b[0;34m\u001b[0m\u001b[0m\n\u001b[0m\u001b[1;32m      2\u001b[0m \u001b[0minstdf\u001b[0m\u001b[0;34m.\u001b[0m\u001b[0mhead\u001b[0m\u001b[0;34m(\u001b[0m\u001b[0;36m10\u001b[0m\u001b[0;34m)\u001b[0m\u001b[0;34m\u001b[0m\u001b[0;34m\u001b[0m\u001b[0m\n",
      "\u001b[0;31mNameError\u001b[0m: name 'institute' is not defined"
     ]
    }
   ],
   "source": [
    "instdf = pd.DataFrame(institute)\n",
    "instdf.head(10)"
   ]
  },
  {
   "cell_type": "code",
   "execution_count": 23,
   "metadata": {},
   "outputs": [
    {
     "name": "stdout",
     "output_type": "stream",
     "text": [
      "389\n"
     ]
    },
    {
     "data": {
      "text/html": [
       "<div>\n",
       "<style scoped>\n",
       "    .dataframe tbody tr th:only-of-type {\n",
       "        vertical-align: middle;\n",
       "    }\n",
       "\n",
       "    .dataframe tbody tr th {\n",
       "        vertical-align: top;\n",
       "    }\n",
       "\n",
       "    .dataframe thead th {\n",
       "        text-align: right;\n",
       "    }\n",
       "</style>\n",
       "<table border=\"1\" class=\"dataframe\">\n",
       "  <thead>\n",
       "    <tr style=\"text-align: right;\">\n",
       "      <th></th>\n",
       "      <th>name</th>\n",
       "      <th>lat</th>\n",
       "      <th>lng</th>\n",
       "    </tr>\n",
       "  </thead>\n",
       "  <tbody>\n",
       "    <tr>\n",
       "      <th>0</th>\n",
       "      <td>Sandwizzaa</td>\n",
       "      <td>19.080700</td>\n",
       "      <td>72.840414</td>\n",
       "    </tr>\n",
       "    <tr>\n",
       "      <th>1</th>\n",
       "      <td>Starbucks</td>\n",
       "      <td>19.075523</td>\n",
       "      <td>72.831745</td>\n",
       "    </tr>\n",
       "    <tr>\n",
       "      <th>2</th>\n",
       "      <td>Ram  Shyam</td>\n",
       "      <td>19.075240</td>\n",
       "      <td>72.839590</td>\n",
       "    </tr>\n",
       "    <tr>\n",
       "      <th>3</th>\n",
       "      <td>Radhe Krishna Chat</td>\n",
       "      <td>19.075315</td>\n",
       "      <td>72.834669</td>\n",
       "    </tr>\n",
       "    <tr>\n",
       "      <th>4</th>\n",
       "      <td>Le Pain Quotidien</td>\n",
       "      <td>19.078858</td>\n",
       "      <td>72.829909</td>\n",
       "    </tr>\n",
       "    <tr>\n",
       "      <th>5</th>\n",
       "      <td>Yoko Sizzlers</td>\n",
       "      <td>19.077763</td>\n",
       "      <td>72.837744</td>\n",
       "    </tr>\n",
       "    <tr>\n",
       "      <th>6</th>\n",
       "      <td>Nice Fast Food Corner</td>\n",
       "      <td>19.077202</td>\n",
       "      <td>72.837742</td>\n",
       "    </tr>\n",
       "    <tr>\n",
       "      <th>7</th>\n",
       "      <td>LSD  Love Sugar Dough</td>\n",
       "      <td>19.072488</td>\n",
       "      <td>72.826692</td>\n",
       "    </tr>\n",
       "    <tr>\n",
       "      <th>8</th>\n",
       "      <td>Shabari Restaurant</td>\n",
       "      <td>19.082411</td>\n",
       "      <td>72.840759</td>\n",
       "    </tr>\n",
       "    <tr>\n",
       "      <th>9</th>\n",
       "      <td>Spaghetti Kitchen</td>\n",
       "      <td>19.072907</td>\n",
       "      <td>72.831963</td>\n",
       "    </tr>\n",
       "  </tbody>\n",
       "</table>\n",
       "</div>"
      ],
      "text/plain": [
       "                    name        lat        lng\n",
       "0             Sandwizzaa  19.080700  72.840414\n",
       "1              Starbucks  19.075523  72.831745\n",
       "2             Ram  Shyam  19.075240  72.839590\n",
       "3     Radhe Krishna Chat  19.075315  72.834669\n",
       "4      Le Pain Quotidien  19.078858  72.829909\n",
       "5          Yoko Sizzlers  19.077763  72.837744\n",
       "6  Nice Fast Food Corner  19.077202  72.837742\n",
       "7  LSD  Love Sugar Dough  19.072488  72.826692\n",
       "8     Shabari Restaurant  19.082411  72.840759\n",
       "9      Spaghetti Kitchen  19.072907  72.831963"
      ]
     },
     "execution_count": 23,
     "metadata": {},
     "output_type": "execute_result"
    }
   ],
   "source": [
    "eaterydf = pd.DataFrame(eatery_data)\n",
    "print(len(eaterydf))\n",
    "eaterydf.head(10)"
   ]
  },
  {
   "cell_type": "code",
   "execution_count": 24,
   "metadata": {},
   "outputs": [
    {
     "ename": "NameError",
     "evalue": "name 'instdf' is not defined",
     "output_type": "error",
     "traceback": [
      "\u001b[0;31m---------------------------------------------------------------------------\u001b[0m",
      "\u001b[0;31mNameError\u001b[0m                                 Traceback (most recent call last)",
      "\u001b[0;32m<ipython-input-24-1983ddaade3c>\u001b[0m in \u001b[0;36m<module>\u001b[0;34m\u001b[0m\n\u001b[1;32m      1\u001b[0m \u001b[0mnum_ci\u001b[0m\u001b[0;34m=\u001b[0m\u001b[0;36m6\u001b[0m\u001b[0;34m\u001b[0m\u001b[0;34m\u001b[0m\u001b[0m\n\u001b[0;32m----> 2\u001b[0;31m \u001b[0mkmeans_inst\u001b[0m \u001b[0;34m=\u001b[0m \u001b[0mKMeans\u001b[0m\u001b[0;34m(\u001b[0m\u001b[0mn_clusters\u001b[0m\u001b[0;34m=\u001b[0m\u001b[0mnum_ci\u001b[0m\u001b[0;34m,\u001b[0m \u001b[0mrandom_state\u001b[0m\u001b[0;34m=\u001b[0m\u001b[0;36m0\u001b[0m\u001b[0;34m)\u001b[0m\u001b[0;34m.\u001b[0m\u001b[0mfit\u001b[0m\u001b[0;34m(\u001b[0m\u001b[0minstdf\u001b[0m\u001b[0;34m.\u001b[0m\u001b[0mloc\u001b[0m\u001b[0;34m[\u001b[0m\u001b[0;34m:\u001b[0m\u001b[0;34m,\u001b[0m \u001b[0;34m[\u001b[0m\u001b[0;34m'latitude'\u001b[0m\u001b[0;34m,\u001b[0m \u001b[0;34m'longitude'\u001b[0m\u001b[0;34m]\u001b[0m\u001b[0;34m]\u001b[0m\u001b[0;34m)\u001b[0m\u001b[0;34m\u001b[0m\u001b[0;34m\u001b[0m\u001b[0m\n\u001b[0m\u001b[1;32m      3\u001b[0m \u001b[0mid_label_inst\u001b[0m \u001b[0;34m=\u001b[0m \u001b[0mkmeans_inst\u001b[0m\u001b[0;34m.\u001b[0m\u001b[0mlabels_\u001b[0m\u001b[0;34m\u001b[0m\u001b[0;34m\u001b[0m\u001b[0m\n\u001b[1;32m      4\u001b[0m \u001b[0mmap2\u001b[0m \u001b[0;34m=\u001b[0m \u001b[0mfolium\u001b[0m\u001b[0;34m.\u001b[0m\u001b[0mMap\u001b[0m\u001b[0;34m(\u001b[0m\u001b[0mlocation\u001b[0m\u001b[0;34m=\u001b[0m\u001b[0;34m[\u001b[0m\u001b[0mmum_lat\u001b[0m\u001b[0;34m,\u001b[0m \u001b[0mmum_lon\u001b[0m\u001b[0;34m]\u001b[0m\u001b[0;34m,\u001b[0m \u001b[0mzoom_start\u001b[0m\u001b[0;34m=\u001b[0m\u001b[0;36m11\u001b[0m\u001b[0;34m,\u001b[0m \u001b[0mtiles\u001b[0m\u001b[0;34m=\u001b[0m\u001b[0;34m\"Stamen Terrain\"\u001b[0m\u001b[0;34m)\u001b[0m\u001b[0;34m\u001b[0m\u001b[0;34m\u001b[0m\u001b[0m\n\u001b[1;32m      5\u001b[0m \u001b[0;34m\u001b[0m\u001b[0m\n",
      "\u001b[0;31mNameError\u001b[0m: name 'instdf' is not defined"
     ]
    }
   ],
   "source": [
    "num_ci=6\n",
    "kmeans_inst = KMeans(n_clusters=num_ci, random_state=0).fit(instdf.loc[:, ['latitude', 'longitude']])\n",
    "id_label_inst = kmeans_inst.labels_\n",
    "map2 = folium.Map(location=[mum_lat, mum_lon], zoom_start=11, tiles=\"Stamen Terrain\")\n",
    "\n",
    "for i in range(num_ci):\n",
    "    cluster = np.where(id_label_inst == i)[0]\n",
    "    col = randomcol()\n",
    "    for la, lo, name in zip(instdf.latitude[cluster].values, instdf.longitude[cluster].values, instdf.institute[cluster].values):\n",
    "        folium.CircleMarker(\n",
    "            [float(la), float(lo)],\n",
    "            radius=5,\n",
    "            popup=name.translate(str.maketrans('', '', string.punctuation)),\n",
    "            fill=True,\n",
    "            color=col,\n",
    "            fill_color='red'\n",
    "        ).add_to(map2)\n",
    "map2"
   ]
  },
  {
   "cell_type": "code",
   "execution_count": 37,
   "metadata": {},
   "outputs": [],
   "source": [
    "num_ce = 10\n",
    "kmeans_eat = KMeans(n_clusters=num_ce, random_state=0).fit(eaterydf.loc[:, ['lat', 'lng']])\n",
    "id_label_eat = kmeans_eat.labels_"
   ]
  },
  {
   "cell_type": "code",
   "execution_count": 38,
   "metadata": {},
   "outputs": [
    {
     "ename": "NameError",
     "evalue": "name 'id_label_inst' is not defined",
     "output_type": "error",
     "traceback": [
      "\u001b[0;31m---------------------------------------------------------------------------\u001b[0m",
      "\u001b[0;31mNameError\u001b[0m                                 Traceback (most recent call last)",
      "\u001b[0;32m<ipython-input-38-69463958a42e>\u001b[0m in \u001b[0;36m<module>\u001b[0;34m\u001b[0m\n\u001b[1;32m      2\u001b[0m \u001b[0;34m\u001b[0m\u001b[0m\n\u001b[1;32m      3\u001b[0m \u001b[0;32mfor\u001b[0m \u001b[0mi\u001b[0m \u001b[0;32min\u001b[0m \u001b[0mrange\u001b[0m\u001b[0;34m(\u001b[0m\u001b[0mnum_ci\u001b[0m\u001b[0;34m)\u001b[0m\u001b[0;34m:\u001b[0m\u001b[0;34m\u001b[0m\u001b[0;34m\u001b[0m\u001b[0m\n\u001b[0;32m----> 4\u001b[0;31m     \u001b[0mcluster\u001b[0m \u001b[0;34m=\u001b[0m \u001b[0mnp\u001b[0m\u001b[0;34m.\u001b[0m\u001b[0mwhere\u001b[0m\u001b[0;34m(\u001b[0m\u001b[0mid_label_inst\u001b[0m \u001b[0;34m==\u001b[0m \u001b[0mi\u001b[0m\u001b[0;34m)\u001b[0m\u001b[0;34m[\u001b[0m\u001b[0;36m0\u001b[0m\u001b[0;34m]\u001b[0m\u001b[0;34m\u001b[0m\u001b[0;34m\u001b[0m\u001b[0m\n\u001b[0m\u001b[1;32m      5\u001b[0m     \u001b[0mcol\u001b[0m \u001b[0;34m=\u001b[0m \u001b[0mrandomcol\u001b[0m\u001b[0;34m(\u001b[0m\u001b[0;34m)\u001b[0m\u001b[0;34m\u001b[0m\u001b[0;34m\u001b[0m\u001b[0m\n\u001b[1;32m      6\u001b[0m     \u001b[0;32mfor\u001b[0m \u001b[0mla\u001b[0m\u001b[0;34m,\u001b[0m \u001b[0mlo\u001b[0m\u001b[0;34m,\u001b[0m \u001b[0mname\u001b[0m \u001b[0;32min\u001b[0m \u001b[0mzip\u001b[0m\u001b[0;34m(\u001b[0m\u001b[0minstdf\u001b[0m\u001b[0;34m.\u001b[0m\u001b[0mlatitude\u001b[0m\u001b[0;34m[\u001b[0m\u001b[0mcluster\u001b[0m\u001b[0;34m]\u001b[0m\u001b[0;34m.\u001b[0m\u001b[0mvalues\u001b[0m\u001b[0;34m,\u001b[0m \u001b[0minstdf\u001b[0m\u001b[0;34m.\u001b[0m\u001b[0mlongitude\u001b[0m\u001b[0;34m[\u001b[0m\u001b[0mcluster\u001b[0m\u001b[0;34m]\u001b[0m\u001b[0;34m.\u001b[0m\u001b[0mvalues\u001b[0m\u001b[0;34m,\u001b[0m \u001b[0minstdf\u001b[0m\u001b[0;34m.\u001b[0m\u001b[0minstitute\u001b[0m\u001b[0;34m[\u001b[0m\u001b[0mcluster\u001b[0m\u001b[0;34m]\u001b[0m\u001b[0;34m.\u001b[0m\u001b[0mvalues\u001b[0m\u001b[0;34m)\u001b[0m\u001b[0;34m:\u001b[0m\u001b[0;34m\u001b[0m\u001b[0;34m\u001b[0m\u001b[0m\n",
      "\u001b[0;31mNameError\u001b[0m: name 'id_label_inst' is not defined"
     ]
    }
   ],
   "source": [
    "map3 = folium.Map(location=[mum_lat, mum_lon], zoom_start=11, tiles = \"Stamen Terrain\")\n",
    "\n",
    "for i in range(num_ci):\n",
    "    cluster = np.where(id_label_inst == i)[0]\n",
    "    col = randomcol()\n",
    "    for la, lo, name in zip(instdf.latitude[cluster].values, instdf.longitude[cluster].values, instdf.institute[cluster].values):\n",
    "        folium.CircleMarker(\n",
    "            [float(la), float(lo)],\n",
    "            radius=5,\n",
    "            popup=name.translate(str.maketrans('', '', string.punctuation)),\n",
    "            fill=True,\n",
    "            color=col,\n",
    "            fill_color='red'\n",
    "        ).add_to(map3)\n",
    "\n",
    "for i in range(num_ce):\n",
    "    cluster = np.where(id_label_eat == i)[0]\n",
    "    col = randomcol()\n",
    "    for la, lo, name in zip(eaterydf.lat[cluster].values, eaterydf.lng[cluster].values, eaterydf.name[cluster].values):\n",
    "        folium.CircleMarker(\n",
    "            [float(la), float(lo)],\n",
    "            radius=1,\n",
    "            popup=str(i)+ \":\"+ name.translate(str.maketrans('', '', string.punctuation)),\n",
    "            fill=True,\n",
    "            color=col,\n",
    "            fill_color='blue',\n",
    "            fill_opacity=0.5\n",
    "        ).add_to(map3)\n",
    "\n",
    "map3"
   ]
  },
  {
   "cell_type": "code",
   "execution_count": 39,
   "metadata": {},
   "outputs": [
    {
     "name": "stdout",
     "output_type": "stream",
     "text": [
      "[(0, 39), (1, 48), (2, 49), (3, 31), (4, 54), (5, 27), (6, 26), (7, 43), (8, 40), (9, 32)]\n"
     ]
    }
   ],
   "source": [
    "from itertools import groupby\n",
    "\n",
    "counts = [(i, len(list(c))) for i,c in groupby(sorted(id_label_eat))]\n",
    "print(counts)"
   ]
  },
  {
   "cell_type": "code",
   "execution_count": null,
   "metadata": {},
   "outputs": [],
   "source": []
  },
  {
   "cell_type": "code",
   "execution_count": null,
   "metadata": {},
   "outputs": [],
   "source": []
  }
 ],
 "metadata": {
  "kernelspec": {
   "display_name": "Python 3",
   "language": "python",
   "name": "python3"
  },
  "language_info": {
   "codemirror_mode": {
    "name": "ipython",
    "version": 3
   },
   "file_extension": ".py",
   "mimetype": "text/x-python",
   "name": "python",
   "nbconvert_exporter": "python",
   "pygments_lexer": "ipython3",
   "version": "3.7.6"
  }
 },
 "nbformat": 4,
 "nbformat_minor": 4
}
